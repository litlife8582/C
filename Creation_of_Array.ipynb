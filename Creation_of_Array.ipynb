{
  "nbformat": 4,
  "nbformat_minor": 0,
  "metadata": {
    "colab": {
      "provenance": [],
      "toc_visible": true,
      "authorship_tag": "ABX9TyOfnwFjp62atelTiSGxsVH5",
      "include_colab_link": true
    },
    "kernelspec": {
      "name": "python3",
      "display_name": "Python 3"
    },
    "language_info": {
      "name": "python"
    }
  },
  "cells": [
    {
      "cell_type": "markdown",
      "metadata": {
        "id": "view-in-github",
        "colab_type": "text"
      },
      "source": [
        "<a href=\"https://colab.research.google.com/github/litlife8582/C/blob/main/Creation_of_Array.ipynb\" target=\"_parent\"><img src=\"https://colab.research.google.com/assets/colab-badge.svg\" alt=\"Open In Colab\"/></a>"
      ]
    },
    {
      "cell_type": "code",
      "execution_count": 8,
      "metadata": {
        "id": "mza4Y8gJxzI-"
      },
      "outputs": [],
      "source": [
        "import numpy as np"
      ]
    },
    {
      "cell_type": "code",
      "source": [
        "list1={1,2,3,4,5,6}\n",
        "array1=np.array(list1)\n",
        "print(array1)\n",
        "\n",
        "tuple1=(1,2,3,4,5)\n",
        "arr=np.array(tuple1)\n",
        "print(arr)"
      ],
      "metadata": {
        "colab": {
          "base_uri": "https://localhost:8080/"
        },
        "id": "_An6XqOpyGtv",
        "outputId": "7de6fd35-24c9-41e8-949d-6f7ae9ea9408"
      },
      "execution_count": null,
      "outputs": [
        {
          "output_type": "stream",
          "name": "stdout",
          "text": [
            "{1, 2, 3, 4, 5, 6}\n",
            "[1 2 3 4 5]\n"
          ]
        }
      ]
    },
    {
      "cell_type": "code",
      "source": [
        "#creating a 2D array or list of lists\n",
        "array2=np.array([[5,7],[6,8]])\n",
        "print(array2)"
      ],
      "metadata": {
        "colab": {
          "base_uri": "https://localhost:8080/"
        },
        "id": "e3Ko7wNQzI_5",
        "outputId": "583e3330-da3d-4c1f-db6c-8bc0b849a216"
      },
      "execution_count": null,
      "outputs": [
        {
          "output_type": "stream",
          "name": "stdout",
          "text": [
            "[[5 7]\n",
            " [6 8]]\n"
          ]
        }
      ]
    },
    {
      "cell_type": "markdown",
      "source": [
        "Creating Multidimentional Arrays using array creation functions\n",
        "\n",
        "1D array\n",
        "np.arrange and np.arange"
      ],
      "metadata": {
        "id": "u8NdCXrS4_M3"
      }
    },
    {
      "cell_type": "markdown",
      "source": [
        "np.arange\n",
        "\n",
        "Parameters:\n",
        "\n",
        "1.start (optional): The starting value of the sequence (default is 0).\n",
        "\n",
        "2.stop (required): The end value (exclusive).\n",
        "\n",
        "3.step (optional): The step size between values (default is 1).\n",
        "\n",
        "4.dtype (optional): The data type of the output array.\n",
        "\n",
        "Syntax of np.arange function:\n",
        "\n",
        "numpy.arange([start, ]stop, [step, ], dtype=None)\n"
      ],
      "metadata": {
        "id": "NfqGmjXS0hqO"
      }
    },
    {
      "cell_type": "code",
      "source": [
        "array4=np.arange(2,10,dtype=float)#prints an array of elements having float datatype with default step size 1\n",
        "print(array4)\n",
        "\n",
        "#with stepsize 0.5\n",
        "array5=np.arange(2,10,0.5,dtype=float)\n",
        "print(array5)"
      ],
      "metadata": {
        "colab": {
          "base_uri": "https://localhost:8080/"
        },
        "id": "Skenc4ADz_9C",
        "outputId": "bc07c17a-6db8-4bcc-930e-9703ec283cf3"
      },
      "execution_count": 16,
      "outputs": [
        {
          "output_type": "stream",
          "name": "stdout",
          "text": [
            "[2. 3. 4. 5. 6. 7. 8. 9.]\n",
            "[2.  2.5 3.  3.5 4.  4.5 5.  5.5 6.  6.5 7.  7.5 8.  8.5 9.  9.5]\n"
          ]
        }
      ]
    },
    {
      "cell_type": "markdown",
      "source": [
        "np.linspace():\n",
        "numpy.linspace() is used to generate an array of evenly spaced numbers over a specified range.\n",
        "\n",
        "Parameters:\n",
        "\n",
        "1.start (required): The starting value of the sequence.\n",
        "\n",
        "2.stop (required): The end value of the sequence.\n",
        "\n",
        "3.num (optional, default=50): Number of values to generate.\n",
        "\n",
        "4.endpoint (optional, default=True): If True, includes stop; if False, excludes it.\n",
        "5.retstep (optional, default=False): If True, returns the step size along with the array.\n",
        "\n",
        "6.dtype (optional): Specifies the data type of the output array.\n",
        "\n",
        "\n",
        "\n",
        "Syntax:\n",
        "\n",
        "numpy.linspace(start, stop, num=50, endpoint=True, retstep=False, dtype=None)\n"
      ],
      "metadata": {
        "id": "shhEXDlJ12NT"
      }
    },
    {
      "cell_type": "code",
      "source": [
        "array6=np.linspace(2,5,num=5,dtype=float)\n",
        "print(array6)"
      ],
      "metadata": {
        "colab": {
          "base_uri": "https://localhost:8080/"
        },
        "id": "KsJTTo6j2ed7",
        "outputId": "b6c66e1e-e83c-4e99-8e6f-b1819cd3887c"
      },
      "execution_count": 23,
      "outputs": [
        {
          "output_type": "stream",
          "name": "stdout",
          "text": [
            "[2.   2.75 3.5  4.25 5.  ]\n"
          ]
        }
      ]
    }
  ]
}